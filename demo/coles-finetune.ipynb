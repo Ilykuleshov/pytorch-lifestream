{
 "cells": [
  {
   "cell_type": "markdown",
   "id": "a7431993",
   "metadata": {},
   "source": [
    "## Data load"
   ]
  },
  {
   "cell_type": "code",
   "execution_count": 3,
   "id": "a798aaae",
   "metadata": {},
   "outputs": [
    {
     "name": "stdout",
     "output_type": "stream",
     "text": [
      "mkdir: cannot create directory ‘../../data’: File exists\n",
      "  % Total    % Received % Xferd  Average Speed   Time    Time     Time  Current\n",
      "                                 Dload  Upload   Total   Spent    Left  Speed\n",
      "100  239M  100  239M    0     0   141M      0  0:00:01  0:00:01 --:--:--  141M\n",
      "Archive:  age-prediction-nti-sbebank-2019.zip\n",
      "  inflating: ../../data/test.csv     \n",
      "  inflating: ../../data/small_group_description.csv  \n",
      "  inflating: ../../data/train_target.csv  \n",
      "  inflating: ../../data/transactions_train.csv  \n",
      "  inflating: ../../data/transactions_test.csv  \n"
     ]
    }
   ],
   "source": [
    "import os\n",
    "\n",
    "if not os.path.exists('data/transactions_train.csv'):\n",
    "    ! mkdir -p data\n",
    "    ! curl -OL https://storage.yandexcloud.net/di-datasets/age-prediction-nti-sbebank-2019.zip\n",
    "    ! unzip -j -o age-prediction-nti-sbebank-2019.zip 'data/*.csv' -d data\n",
    "    ! mv age-prediction-nti-sbebank-2019.zip data/"
   ]
  },
  {
   "cell_type": "markdown",
   "id": "a23b1aee",
   "metadata": {},
   "source": [
    "## Setup"
   ]
  },
  {
   "cell_type": "code",
   "execution_count": 2,
   "id": "587df1ea",
   "metadata": {},
   "outputs": [],
   "source": [
    "%load_ext autoreload\n",
    "%autoreload 2\n",
    "\n",
    "import sys\n",
    "sys.path.append('..')\n",
    "\n",
    "import logging\n",
    "import pytorch_lightning as pl\n",
    "import warnings\n",
    "\n",
    "warnings.filterwarnings('ignore')\n",
    "logging.getLogger(\"pytorch_lightning\").setLevel(logging.ERROR)"
   ]
  },
  {
   "cell_type": "markdown",
   "id": "82f989bc",
   "metadata": {},
   "source": [
    "## Data preproccessing"
   ]
  },
  {
   "cell_type": "code",
   "execution_count": 4,
   "id": "3f5dc8d6",
   "metadata": {},
   "outputs": [
    {
     "name": "stdout",
     "output_type": "stream",
     "text": [
      "Number of train samples: 26450577\n",
      "Number of unique clients in train: 30000\n",
      "\n",
      "Number of test samples: 17667328\n",
      "Number of unique clients in test: 20000\n"
     ]
    }
   ],
   "source": [
    "import os\n",
    "import pandas as pd\n",
    "import numpy as np\n",
    "\n",
    "\n",
    "data_path = 'data/'\n",
    "\n",
    "# Load train dataframe:\n",
    "\n",
    "train_source_df = pd.read_csv(os.path.join(data_path, 'transactions_train.csv'))\n",
    "print('Number of train samples:', len(train_source_df))\n",
    "print('Number of unique clients in train:', len(np.unique(train_source_df['client_id'])))\n",
    "print()\n",
    "\n",
    "# Load test dataframe:\n",
    "\n",
    "test_source_df = pd.read_csv(os.path.join(data_path, 'transactions_test.csv'))\n",
    "print('Number of test samples:', len(test_source_df))\n",
    "print('Number of unique clients in test:', len(np.unique(test_source_df['client_id'])))"
   ]
  },
  {
   "cell_type": "code",
   "execution_count": 5,
   "id": "d00023f2",
   "metadata": {},
   "outputs": [
    {
     "data": {
      "text/html": [
       "<div>\n",
       "<style scoped>\n",
       "    .dataframe tbody tr th:only-of-type {\n",
       "        vertical-align: middle;\n",
       "    }\n",
       "\n",
       "    .dataframe tbody tr th {\n",
       "        vertical-align: top;\n",
       "    }\n",
       "\n",
       "    .dataframe thead th {\n",
       "        text-align: right;\n",
       "    }\n",
       "</style>\n",
       "<table border=\"1\" class=\"dataframe\">\n",
       "  <thead>\n",
       "    <tr style=\"text-align: right;\">\n",
       "      <th></th>\n",
       "      <th>client_id</th>\n",
       "      <th>trans_date</th>\n",
       "      <th>small_group</th>\n",
       "      <th>amount_rur</th>\n",
       "    </tr>\n",
       "  </thead>\n",
       "  <tbody>\n",
       "    <tr>\n",
       "      <th>0</th>\n",
       "      <td>33172</td>\n",
       "      <td>6</td>\n",
       "      <td>4</td>\n",
       "      <td>71.463</td>\n",
       "    </tr>\n",
       "    <tr>\n",
       "      <th>1</th>\n",
       "      <td>33172</td>\n",
       "      <td>6</td>\n",
       "      <td>35</td>\n",
       "      <td>45.017</td>\n",
       "    </tr>\n",
       "  </tbody>\n",
       "</table>\n",
       "</div>"
      ],
      "text/plain": [
       "   client_id  trans_date  small_group  amount_rur\n",
       "0      33172           6            4      71.463\n",
       "1      33172           6           35      45.017"
      ]
     },
     "execution_count": 5,
     "metadata": {},
     "output_type": "execute_result"
    }
   ],
   "source": [
    "train_source_df.head(2)"
   ]
  },
  {
   "cell_type": "code",
   "execution_count": 6,
   "id": "c25c6bb5",
   "metadata": {},
   "outputs": [
    {
     "data": {
      "text/html": [
       "<div>\n",
       "<style scoped>\n",
       "    .dataframe tbody tr th:only-of-type {\n",
       "        vertical-align: middle;\n",
       "    }\n",
       "\n",
       "    .dataframe tbody tr th {\n",
       "        vertical-align: top;\n",
       "    }\n",
       "\n",
       "    .dataframe thead th {\n",
       "        text-align: right;\n",
       "    }\n",
       "</style>\n",
       "<table border=\"1\" class=\"dataframe\">\n",
       "  <thead>\n",
       "    <tr style=\"text-align: right;\">\n",
       "      <th></th>\n",
       "      <th>client_id</th>\n",
       "      <th>trans_date</th>\n",
       "      <th>small_group</th>\n",
       "      <th>amount_rur</th>\n",
       "    </tr>\n",
       "  </thead>\n",
       "  <tbody>\n",
       "    <tr>\n",
       "      <th>0</th>\n",
       "      <td>46445</td>\n",
       "      <td>3</td>\n",
       "      <td>0</td>\n",
       "      <td>19.555</td>\n",
       "    </tr>\n",
       "    <tr>\n",
       "      <th>1</th>\n",
       "      <td>46445</td>\n",
       "      <td>3</td>\n",
       "      <td>1</td>\n",
       "      <td>27.774</td>\n",
       "    </tr>\n",
       "  </tbody>\n",
       "</table>\n",
       "</div>"
      ],
      "text/plain": [
       "   client_id  trans_date  small_group  amount_rur\n",
       "0      46445           3            0      19.555\n",
       "1      46445           3            1      27.774"
      ]
     },
     "execution_count": 6,
     "metadata": {},
     "output_type": "execute_result"
    }
   ],
   "source": [
    "test_source_df.head(2)"
   ]
  },
  {
   "cell_type": "code",
   "execution_count": 7,
   "id": "fc0d7dd8",
   "metadata": {},
   "outputs": [
    {
     "data": {
      "text/html": [
       "<div>\n",
       "<style scoped>\n",
       "    .dataframe tbody tr th:only-of-type {\n",
       "        vertical-align: middle;\n",
       "    }\n",
       "\n",
       "    .dataframe tbody tr th {\n",
       "        vertical-align: top;\n",
       "    }\n",
       "\n",
       "    .dataframe thead th {\n",
       "        text-align: right;\n",
       "    }\n",
       "</style>\n",
       "<table border=\"1\" class=\"dataframe\">\n",
       "  <thead>\n",
       "    <tr style=\"text-align: right;\">\n",
       "      <th></th>\n",
       "      <th>target</th>\n",
       "    </tr>\n",
       "    <tr>\n",
       "      <th>client_id</th>\n",
       "      <th></th>\n",
       "    </tr>\n",
       "  </thead>\n",
       "  <tbody>\n",
       "    <tr>\n",
       "      <th>24662</th>\n",
       "      <td>2</td>\n",
       "    </tr>\n",
       "    <tr>\n",
       "      <th>1046</th>\n",
       "      <td>0</td>\n",
       "    </tr>\n",
       "    <tr>\n",
       "      <th>34089</th>\n",
       "      <td>2</td>\n",
       "    </tr>\n",
       "    <tr>\n",
       "      <th>34848</th>\n",
       "      <td>1</td>\n",
       "    </tr>\n",
       "    <tr>\n",
       "      <th>47076</th>\n",
       "      <td>3</td>\n",
       "    </tr>\n",
       "  </tbody>\n",
       "</table>\n",
       "</div>"
      ],
      "text/plain": [
       "           target\n",
       "client_id        \n",
       "24662           2\n",
       "1046            0\n",
       "34089           2\n",
       "34848           1\n",
       "47076           3"
      ]
     },
     "execution_count": 7,
     "metadata": {},
     "output_type": "execute_result"
    }
   ],
   "source": [
    "# In case train data has targets and test data has not we will use full test data\n",
    "# for unsupervised metric learning to obtain pretrained encoder. The train data\n",
    "# with targets we will use for finetuning the encoder in a supervised manner and testing\n",
    "\n",
    "df_target = pd.read_csv(os.path.join(data_path, 'train_target.csv'))\n",
    "df_target.set_index('client_id', inplace=True)\n",
    "df_target.rename(columns={\"bins\": \"target\"}, inplace=True)\n",
    "df_target.head(5)"
   ]
  },
  {
   "cell_type": "code",
   "execution_count": 9,
   "id": "9c8acb55",
   "metadata": {},
   "outputs": [
    {
     "name": "stdout",
     "output_type": "stream",
     "text": [
      "21146663\n",
      "5303914\n",
      "Test ratio: 0.2\n"
     ]
    }
   ],
   "source": [
    "# Split train_df into finetuning and testing parts:\n",
    "\n",
    "finetuning_df = train_source_df[train_source_df['client_id'] < 40000]\n",
    "test_df = train_source_df[train_source_df['client_id'] >= 40000]\n",
    "print(len(finetuning_df))\n",
    "print(len(test_df))\n",
    "print('Test ratio:', round(len(test_df) / (len(test_df) + len(finetuning_df)), 2))"
   ]
  },
  {
   "cell_type": "code",
   "execution_count": 10,
   "id": "8615b722",
   "metadata": {},
   "outputs": [],
   "source": [
    "from ptls.data_preprocessing import PandasDataPreprocessor\n",
    "\n",
    "preprocessor = PandasDataPreprocessor(\n",
    "    col_id='client_id',\n",
    "    cols_event_time='trans_date',\n",
    "    time_transformation='float',\n",
    "    cols_category=[\"trans_date\", \"small_group\"],\n",
    "    cols_log_norm=[\"amount_rur\"],\n",
    "    cols_identity=[],\n",
    "    cols_target=[\"target\"],\n",
    "    print_dataset_info=False,\n",
    ")"
   ]
  },
  {
   "cell_type": "code",
   "execution_count": 11,
   "id": "fca72f6e",
   "metadata": {},
   "outputs": [
    {
     "name": "stdout",
     "output_type": "stream",
     "text": [
      "Clients in MetricLearn dataset: 6023\n",
      "Clients in FineTuning dataset: 23977\n",
      "Clients in Testing dataset: 6023\n",
      "CPU times: user 1min 22s, sys: 13.8 s, total: 1min 35s\n",
      "Wall time: 1min 35s\n"
     ]
    }
   ],
   "source": [
    "%%time\n",
    "\n",
    "\n",
    "# Fit preprocessor on all data except test_df:\n",
    "full_source_train_df = pd.concat([test_source_df, finetuning_df])\n",
    "preproc_fitted = preprocessor.fit(full_source_train_df)\n",
    "\n",
    "dataset_metric_learn = preproc_fitted.transform(test_df)\n",
    "dataset_finetuning = preproc_fitted.transform(finetuning_df)\n",
    "dataset_testing = preproc_fitted.transform(test_df)\n",
    "# full_source_train = dataset_finetuning + dataset_testing\n",
    "\n",
    "print('Clients in MetricLearn dataset:', len(dataset_metric_learn))\n",
    "print('Clients in FineTuning dataset:', len(dataset_finetuning))\n",
    "print('Clients in Testing dataset:', len(dataset_testing))"
   ]
  },
  {
   "cell_type": "code",
   "execution_count": 12,
   "id": "661d90f9",
   "metadata": {},
   "outputs": [
    {
     "name": "stdout",
     "output_type": "stream",
     "text": [
      "dict_keys(['client_id', 'trans_date', 'small_group', 'amount_rur', 'event_time'])\n",
      "dict_keys(['client_id', 'trans_date', 'small_group', 'amount_rur', 'event_time', 'target'])\n"
     ]
    }
   ],
   "source": [
    "# Add targets to dataset_finetuning and dataset_testing:\n",
    "\n",
    "print(dataset_finetuning[0].keys())\n",
    "\n",
    "for el in dataset_finetuning:\n",
    "    el['target'] = df_target['target'][el['client_id']]\n",
    "for el in dataset_testing:\n",
    "    el['target'] = df_target['target'][el['client_id']]\n",
    "\n",
    "print(dataset_finetuning[0].keys())"
   ]
  },
  {
   "cell_type": "markdown",
   "id": "f9080a6f",
   "metadata": {},
   "source": [
    "## Embedding training"
   ]
  },
  {
   "cell_type": "markdown",
   "id": "56493c0b",
   "metadata": {},
   "source": [
    "Model training in our framework organised via pytorch-lightning (pl) framework.\n",
    "The key parts of neural networks training in pl are: \n",
    "\n",
    "    * model (pl.LightningModule)\n",
    "    * data_module (pl.LightningDataModule)\n",
    "    * pl.trainer (pl.trainer)\n",
    "    \n",
    "For futher details check https://www.pytorchlightning.ai/"
   ]
  },
  {
   "cell_type": "markdown",
   "id": "43a6ee58",
   "metadata": {},
   "source": [
    "### Model definition"
   ]
  },
  {
   "cell_type": "code",
   "execution_count": 13,
   "id": "988c508d",
   "metadata": {},
   "outputs": [],
   "source": [
    "from ptls.seq_encoder import SequenceEncoder\n",
    "from ptls.models import Head\n",
    "from ptls.lightning_modules.emb_module import EmbModule\n",
    "\n",
    "seq_encoder = SequenceEncoder(\n",
    "    category_features=preprocessor.get_category_sizes(),\n",
    "    numeric_features=[\"amount_rur\"],\n",
    "    trx_embedding_noize=0.003\n",
    ")\n",
    "\n",
    "head = Head(input_size=seq_encoder.embedding_size, use_norm_encoder=True)\n",
    "\n",
    "model = EmbModule(seq_encoder=seq_encoder, head=head)"
   ]
  },
  {
   "cell_type": "markdown",
   "id": "87997ac0",
   "metadata": {},
   "source": [
    "### Data module"
   ]
  },
  {
   "cell_type": "code",
   "execution_count": 14,
   "id": "624065bf",
   "metadata": {},
   "outputs": [],
   "source": [
    "from ptls.data_load.data_module.emb_data_module import EmbeddingTrainDataModule\n",
    "\n",
    "dm = EmbeddingTrainDataModule(\n",
    "    dataset=dataset_metric_learn,\n",
    "    pl_module=model,\n",
    "    min_seq_len=25,\n",
    "    seq_split_strategy='SampleSlices',\n",
    "    category_names = model.seq_encoder.category_names,\n",
    "    category_max_size = model.seq_encoder.category_max_size,\n",
    "    split_count=6,\n",
    "    split_cnt_min=25,\n",
    "    split_cnt_max=200,\n",
    "    train_num_workers=0,\n",
    "    train_batch_size=256,\n",
    "    valid_num_workers=0,\n",
    "    valid_batch_size=256\n",
    ")"
   ]
  },
  {
   "cell_type": "markdown",
   "id": "fc9a09be",
   "metadata": {},
   "source": [
    "### Trainer Metric Learning"
   ]
  },
  {
   "cell_type": "code",
   "execution_count": 15,
   "id": "8fdbb67d",
   "metadata": {},
   "outputs": [],
   "source": [
    "import torch\n",
    "import pytorch_lightning as pl\n",
    "import logging\n",
    "\n",
    "\n",
    "# logging.getLogger(\"lightning\").addHandler(logging.NullHandler())\n",
    "# logging.getLogger(\"lightning\").propagate = False\n",
    "\n",
    "\n",
    "trainer_ml = pl.Trainer(\n",
    "#     progress_bar_refresh_rate=0,\n",
    "    max_epochs=15,\n",
    "    gpus=1 if torch.cuda.is_available() else 0\n",
    ")"
   ]
  },
  {
   "cell_type": "markdown",
   "id": "a88078a3",
   "metadata": {},
   "source": [
    "### Training Metric Learning"
   ]
  },
  {
   "cell_type": "code",
   "execution_count": 37,
   "id": "f40877df",
   "metadata": {},
   "outputs": [],
   "source": [
    "%%time\n",
    "\n",
    "trainer_ml.fit(model, dm)"
   ]
  },
  {
   "cell_type": "markdown",
   "id": "ae0f2589",
   "metadata": {},
   "source": [
    "## FineTuning"
   ]
  },
  {
   "cell_type": "markdown",
   "id": "b6e31aa3",
   "metadata": {},
   "source": [
    "### model"
   ]
  },
  {
   "cell_type": "code",
   "execution_count": 30,
   "id": "bea1f48e",
   "metadata": {},
   "outputs": [],
   "source": [
    "import copy\n",
    "from ptls.seq_to_target_demo import SeqToTargetDemo\n",
    "\n",
    "\n",
    "pretrained_encoder = copy.deepcopy(model.seq_encoder)\n",
    "\n",
    "downstream_model = SeqToTargetDemo(\n",
    "    pretrained_encoder,\n",
    "    encoder_lr=0.0001,\n",
    "    in_features=model.seq_encoder.embedding_size,\n",
    "    out_features=4,\n",
    "    head_lr=0.02,\n",
    "    weight_decay=0.0,\n",
    "    lr_scheduler_step_size=10,\n",
    "    lr_scheduler_step_gamma=0.2)"
   ]
  },
  {
   "cell_type": "markdown",
   "id": "98196aa0",
   "metadata": {},
   "source": [
    "### Data module"
   ]
  },
  {
   "cell_type": "code",
   "execution_count": 31,
   "id": "572b4c44",
   "metadata": {},
   "outputs": [],
   "source": [
    "from ptls.data_load.data_module.seq_to_target_data_module import SeqToTargetDatamodule\n",
    "\n",
    "\n",
    "finetune_dm = SeqToTargetDatamodule(\n",
    "    dataset=dataset_finetuning,\n",
    "    pl_module=downstream_model,\n",
    "    min_seq_len=0,\n",
    "    valid_size=0.05,\n",
    "    train_num_workers=0,\n",
    "    train_batch_size=256,\n",
    "    valid_num_workers=0,\n",
    "    valid_batch_size=256,\n",
    "    target_col='target',\n",
    "    random_state=42)"
   ]
  },
  {
   "cell_type": "markdown",
   "id": "2e39721c",
   "metadata": {},
   "source": [
    "### Trainer FineTuning"
   ]
  },
  {
   "cell_type": "code",
   "execution_count": 32,
   "id": "553ebede",
   "metadata": {},
   "outputs": [],
   "source": [
    "trainer_ft = pl.Trainer(\n",
    "#     progress_bar_refresh_rate=0,\n",
    "    max_epochs=4,\n",
    "    gpus=1 if torch.cuda.is_available() else 0\n",
    ")"
   ]
  },
  {
   "cell_type": "markdown",
   "id": "f58266c2",
   "metadata": {},
   "source": [
    "### Training FineTuning"
   ]
  },
  {
   "cell_type": "code",
   "execution_count": 38,
   "id": "f0a1d4e0",
   "metadata": {},
   "outputs": [],
   "source": [
    "trainer_ft.fit(downstream_model, finetune_dm)"
   ]
  },
  {
   "cell_type": "markdown",
   "id": "6d2670ff",
   "metadata": {},
   "source": [
    "### Testing"
   ]
  },
  {
   "cell_type": "code",
   "execution_count": 37,
   "id": "270490d0",
   "metadata": {},
   "outputs": [
    {
     "data": {
      "application/vnd.jupyter.widget-view+json": {
       "model_id": "6f9a2c9e71064d67a7f30ccbd0d3025d",
       "version_major": 2,
       "version_minor": 0
      },
      "text/plain": [
       "Testing: 0it [00:00, ?it/s]"
      ]
     },
     "metadata": {},
     "output_type": "display_data"
    },
    {
     "name": "stdout",
     "output_type": "stream",
     "text": [
      "--------------------------------------------------------------------------------\n",
      "DATALOADER:0 TEST RESULTS\n",
      "{'test_accuracy': 0.6368919014930725}\n",
      "--------------------------------------------------------------------------------\n"
     ]
    },
    {
     "data": {
      "text/plain": [
       "[{'test_accuracy': 0.6368919014930725}]"
      ]
     },
     "execution_count": 37,
     "metadata": {},
     "output_type": "execute_result"
    }
   ],
   "source": [
    "from torch.utils.data import DataLoader\n",
    "from ptls.data_load import padded_collate\n",
    "\n",
    "\n",
    "test_dataset = list(finetune_dm.post_proc(iter(dataset_testing)))\n",
    "\n",
    "test_dataloader = DataLoader(dataset=test_dataset,\n",
    "                             collate_fn=padded_collate,\n",
    "                             num_workers=0,\n",
    "                             batch_size=128)\n",
    "\n",
    "\n",
    "trainer_ft.test(dataloaders=test_dataloader)"
   ]
  },
  {
   "cell_type": "code",
   "execution_count": null,
   "id": "1cf2954d",
   "metadata": {},
   "outputs": [],
   "source": []
  }
 ],
 "metadata": {
  "kernelspec": {
   "display_name": "Python 3",
   "language": "python",
   "name": "python3"
  },
  "language_info": {
   "codemirror_mode": {
    "name": "ipython",
    "version": 3
   },
   "file_extension": ".py",
   "mimetype": "text/x-python",
   "name": "python",
   "nbconvert_exporter": "python",
   "pygments_lexer": "ipython3",
   "version": "3.8.0"
  }
 },
 "nbformat": 4,
 "nbformat_minor": 5
}
